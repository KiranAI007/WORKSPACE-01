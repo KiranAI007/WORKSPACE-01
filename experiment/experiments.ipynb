{
 "cells": [
  {
   "cell_type": "code",
   "execution_count": 1,
   "metadata": {},
   "outputs": [],
   "source": [
    "from pymongo.mongo_client import MongoClient\n",
    "url = \"mongodb://localhost:27017\"\n",
    "client = MongoClient(url)"
   ]
  },
  {
   "cell_type": "code",
   "execution_count": 2,
   "metadata": {},
   "outputs": [],
   "source": [
    "# create the database\n",
    "database = client[\"youtubecommunity\"]"
   ]
  },
  {
   "cell_type": "code",
   "execution_count": 3,
   "metadata": {},
   "outputs": [],
   "source": [
    "# create collection\n",
    "collection = database[\"session\"]"
   ]
  },
  {
   "cell_type": "code",
   "execution_count": 9,
   "metadata": {},
   "outputs": [],
   "source": [
    "# import libraries\n",
    "import pandas as pd\n",
    "import json"
   ]
  },
  {
   "cell_type": "code",
   "execution_count": 5,
   "metadata": {},
   "outputs": [
    {
     "data": {
      "text/plain": [
       "{'coursename': 'genai', 'instructurename': 'sunny', 'modeofsession': 'english'}"
      ]
     },
     "execution_count": 5,
     "metadata": {},
     "output_type": "execute_result"
    }
   ],
   "source": [
    "# sample data\n",
    "data = {\n",
    "    \"coursename\":\"genai\",\n",
    "    \"instructurename\":\"sunny\",\n",
    "    \"modeofsession\":\"english\"\n",
    "}\n",
    "data"
   ]
  },
  {
   "cell_type": "code",
   "execution_count": 6,
   "metadata": {},
   "outputs": [
    {
     "data": {
      "text/plain": [
       "InsertOneResult(ObjectId('65bdc57df5a660702a3b7600'), acknowledged=True)"
      ]
     },
     "execution_count": 6,
     "metadata": {},
     "output_type": "execute_result"
    }
   ],
   "source": [
    "# insert the data into session\n",
    "collection.insert_one(data)"
   ]
  },
  {
   "cell_type": "code",
   "execution_count": 7,
   "metadata": {},
   "outputs": [],
   "source": [
    "# get data from mongo\n",
    "all_record = collection.find()"
   ]
  },
  {
   "cell_type": "code",
   "execution_count": 7,
   "metadata": {},
   "outputs": [
    {
     "name": "stdout",
     "output_type": "stream",
     "text": [
      "{'_id': ObjectId('65ab4bcc427f9d748497871b'), 'coursename': 'genai', 'instructurename': 'sunny', 'modeofsession': 'english'}\n",
      "{'_id': ObjectId('65ab4bcc427f9d748497871c'), 'coursename': 'mlops', 'instructurename': 'sunnysavitha', 'modeofsession': 'english&hindi'}\n",
      "{'_id': ObjectId('65b48e4bd4e99e935fff7f6a'), 'coursename': 'genai', 'instructurename': 'sunny', 'modeofsession': 'english'}\n"
     ]
    }
   ],
   "source": [
    "for record in all_record:\n",
    "    print(record)"
   ]
  },
  {
   "cell_type": "code",
   "execution_count": 8,
   "metadata": {},
   "outputs": [
    {
     "data": {
      "text/plain": [
       "InsertManyResult([ObjectId('65bdc587f5a660702a3b7601'), ObjectId('65bdc587f5a660702a3b7602')], acknowledged=True)"
      ]
     },
     "execution_count": 8,
     "metadata": {},
     "output_type": "execute_result"
    }
   ],
   "source": [
    "collection.insert_many(\n",
    "    [\n",
    "        {\n",
    "    \"coursename\":\"genai\",\n",
    "    \"instructurename\":\"sunny\",\n",
    "    \"modeofsession\":\"english\"\n",
    "},\n",
    "{\n",
    "    \"coursename\":\"mlops\",\n",
    "    \"instructurename\":\"sunnysavitha\",\n",
    "    \"modeofsession\":\"english&hindi\"\n",
    "}\n",
    "        \n",
    "    ]\n",
    ")"
   ]
  },
  {
   "cell_type": "code",
   "execution_count": 20,
   "metadata": {},
   "outputs": [],
   "source": [
    "class mongodb_operations:\n",
    "\n",
    "    def __init__(self, client_url: str, database_name: str, collection_name: str=None):\n",
    "        self.client_url = client_url\n",
    "        self.database_name = database_name\n",
    "        self.collection_name = collection_name\n",
    "\n",
    "    # 1. create/initialize the client object\n",
    "    def create_client(self):\n",
    "        client = MongoClient(self.client_url)\n",
    "        return client\n",
    "    \n",
    "    # 2. create the database\n",
    "    def create_database(self):\n",
    "        client = self.create_client()\n",
    "        database_name = client[self.database_name]\n",
    "        return database_name\n",
    "\n",
    "    # 3. create the collection\n",
    "    def create_collection(self, collection = None):\n",
    "        database = self.create_database()\n",
    "        collection = database[self.collection_name]\n",
    "        return collection\n",
    "    \n",
    "    # 4. insert the data/ records\n",
    "    def insert_record(self, record:dict, collection_name:str):\n",
    "        if type(record)==list:\n",
    "            for data in record:\n",
    "                if type(data) != dict:\n",
    "                    raise TypeError(\"record must be in the dict\") \n",
    "            collection = self.create_collection(collection_name)\n",
    "            collection.insert_many(record)\n",
    "        elif type(record) == dict:\n",
    "            collection = self.create_collection(collection_name)\n",
    "            collection.insert_one(record)           \n",
    "    \n",
    "    # 5. bulk insert the records\n",
    "    def bulk_insert(self, datafile:str, collection_name:str=None):\n",
    "        self.path = datafile\n",
    "        if self.path.endswith('.csv'):\n",
    "            data = pd.read_csv(self.path, encoding='utf-8')\n",
    "        elif self.path.endswith('.xlsx'):\n",
    "            data = pd.read_excel(self.path, encoding = 'utf-8')\n",
    "\n",
    "        dataJson = json.loads(data.to_json(orient=True))\n",
    "        collection = self.create_collection()\n",
    "        collection.insert_many(data)\n",
    "            \n",
    "        "
   ]
  },
  {
   "cell_type": "code",
   "execution_count": 21,
   "metadata": {},
   "outputs": [],
   "source": [
    "# call the mongodb\n",
    "client_url = \"mongodb://localhost:27017\"\n",
    "database_name = \"myNewDB\"\n",
    "collection_name = \"myNewCollection\""
   ]
  },
  {
   "cell_type": "code",
   "execution_count": 22,
   "metadata": {},
   "outputs": [],
   "source": [
    "mongo = mongodb_operations(client_url, database_name, collection_name)"
   ]
  },
  {
   "cell_type": "code",
   "execution_count": 23,
   "metadata": {},
   "outputs": [],
   "source": [
    "mongo.insert_record({\"name\":\"kiran\", \"designation\":\"data scientist\", \"salary\":\"10k\"}, collection_name)"
   ]
  },
  {
   "cell_type": "code",
   "execution_count": 24,
   "metadata": {},
   "outputs": [],
   "source": [
    "mongo.insert_record([{\"name\":\"rajan\", \"designation\":\"jr. data scientist\", \"salary\":\"5k\"},\n",
    "                     {\"name\":\"sunny\", \"designation\":\"sr. data scientist\", \"salary\":\"15k\"},\n",
    "                     {\"name\":\"krish\", \"designation\":\"lead data scientist\", \"salary\":\"20k\"}], collection_name)"
   ]
  },
  {
   "cell_type": "code",
   "execution_count": null,
   "metadata": {},
   "outputs": [],
   "source": []
  }
 ],
 "metadata": {
  "kernelspec": {
   "display_name": "Python 3",
   "language": "python",
   "name": "python3"
  },
  "language_info": {
   "codemirror_mode": {
    "name": "ipython",
    "version": 3
   },
   "file_extension": ".py",
   "mimetype": "text/x-python",
   "name": "python",
   "nbconvert_exporter": "python",
   "pygments_lexer": "ipython3",
   "version": "3.10.0"
  }
 },
 "nbformat": 4,
 "nbformat_minor": 2
}
